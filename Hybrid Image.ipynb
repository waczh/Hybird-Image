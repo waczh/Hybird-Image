{
 "cells": [
  {
   "cell_type": "markdown",
   "metadata": {},
   "source": [
    "**混合图像 Hybrid Image**"
   ]
  },
  {
   "cell_type": "markdown",
   "metadata": {},
   "source": [
    "@wc"
   ]
  },
  {
   "cell_type": "markdown",
   "metadata": {},
   "source": [
    "- $\\bf{Step1:}$定义高斯卷积核$G_{\\sigma}$, 读入图像\n",
    "- $\\bf{Step2:}$编写ConvFunction,分别对Image1和Image2的每个通道做滤波, 得到低通图像\n",
    "- $\\bf{Step3:}$用第一幅低通图像$+$第二幅图的高通图像"
   ]
  },
  {
   "cell_type": "markdown",
   "metadata": {},
   "source": [
    "<span style=\"color: blue;\">**Step I**</span>"
   ]
  },
  {
   "cell_type": "code",
   "execution_count": 28,
   "metadata": {},
   "outputs": [
    {
     "name": "stdout",
     "output_type": "stream",
     "text": [
      "Dog image size: (361, 410, 3)\n",
      "Cat image size: (361, 410, 3)\n"
     ]
    }
   ],
   "source": [
    "import numpy as np\n",
    "from PIL import Image\n",
    "\n",
    "dog_image = PIL.Image.open(\"dog.jpg\")#读入dog.jpg\n",
    "cat_image = PIL.Image.open(\"cat.jpg\")#读入cat.jpg\n",
    "\n",
    "\n",
    "dog_image_array = np.array(dog_image)#转为三通道矩阵\n",
    "cat_image_array = np.array(cat_image)\n",
    "\n",
    "print(\"Dog image size:\",str(dog_image_array.shape))#(height, weight, channels)\n",
    "print(\"Cat image size:\",str(dog_image_array.shape))\n"
   ]
  },
  {
   "cell_type": "markdown",
   "metadata": {},
   "source": [
    "Gaussian kernel: $$\\bf{G_{\\sigma}=\\frac{1}{2\\pi\\sigma^2}e^{-\\frac{(x^2+y^2)}{2\\sigma^2}}}$$"
   ]
  },
  {
   "cell_type": "code",
   "execution_count": 21,
   "metadata": {},
   "outputs": [
    {
     "name": "stdout",
     "output_type": "stream",
     "text": [
      "Value of posision (0,0) is  0.006366197723675813\n"
     ]
    }
   ],
   "source": [
    "def GausVal (sigma, x, y):\n",
    "    return 1 / (2 * np.pi * sigma**2)*np.exp(-((x**2 + y**2) / (2 * sigma**2)))\n",
    "print(\"Value of posision (0,0) is \",str(GausVal(5,0,0)))"
   ]
  },
  {
   "cell_type": "code",
   "execution_count": 71,
   "metadata": {},
   "outputs": [
    {
     "name": "stdout",
     "output_type": "stream",
     "text": [
      "[[3.54326422e-07 4.71169822e-07 6.20309523e-07 ... 4.71169822e-07\n",
      "  3.54326422e-07 2.63807214e-07]\n",
      " [4.71169822e-07 6.26543738e-07 8.24864050e-07 ... 6.26543738e-07\n",
      "  4.71169822e-07 3.50800815e-07]\n",
      " [6.20309523e-07 8.24864050e-07 1.08595882e-06 ... 8.24864050e-07\n",
      "  6.20309523e-07 4.61840034e-07]\n",
      " ...\n",
      " [4.71169822e-07 6.26543738e-07 8.24864050e-07 ... 6.26543738e-07\n",
      "  4.71169822e-07 3.50800815e-07]\n",
      " [3.54326422e-07 4.71169822e-07 6.20309523e-07 ... 4.71169822e-07\n",
      "  3.54326422e-07 2.63807214e-07]\n",
      " [2.63807214e-07 3.50800815e-07 4.61840034e-07 ... 3.50800815e-07\n",
      "  2.63807214e-07 1.96412803e-07]]\n"
     ]
    },
    {
     "data": {
      "text/plain": [
       "<matplotlib.image.AxesImage at 0x1ce080d8760>"
      ]
     },
     "execution_count": 71,
     "metadata": {},
     "output_type": "execute_result"
    },
    {
     "data": {
      "image/png": "[encoded data removed]",
      "text/plain": [
       "<Figure size 640x480 with 1 Axes>"
      ]
     },
     "metadata": {},
     "output_type": "display_data"
    }
   ],
   "source": [
    "import matplotlib.pyplot as plt\n",
    "def GausKernel_init (sigma):\n",
    "    GausKernel = np.zeros((6*sigma,6*sigma))\n",
    "    for x in range(-3*sigma,3*sigma+1):\n",
    "        for y in range(-3*sigma,3*sigma+1):\n",
    "            GausKernel[3*sigma-y-1,3*sigma+x-1] = GausVal(sigma, x, y)#建立起xy坐标系和矩阵索引之间的关系\n",
    "    return GausKernel\n",
    "print(GausKernel_init(10))\n",
    "plt.imshow(GausKernel_init(10))"
   ]
  },
  {
   "cell_type": "markdown",
   "metadata": {},
   "source": [
    "<span style=\"color: blue;\">**Step II**</span>"
   ]
  },
  {
   "cell_type": "markdown",
   "metadata": {},
   "source": [
    "ConvFuncion: $$\\mathbf{H}\\ast \\mathbf{F}=\\sum_{u=-k}^{k}\\sum_{v=-k}^{k}\\mathbf{H}[u,v]\\mathbf{F}[i-u,j-v]$$"
   ]
  },
  {
   "cell_type": "markdown",
   "metadata": {},
   "source": [
    "$$Padding = \\lfloor (kernelsize-1)/2 \\rfloor$$"
   ]
  },
  {
   "cell_type": "code",
   "execution_count": 67,
   "metadata": {},
   "outputs": [],
   "source": [
    "\"\"\"\n",
    "多通道padding\n",
    "\"\"\"\n",
    "def AddPadding(image,kernel):\n",
    "    padding = (kernel.shape[0]-1)//2\n",
    "    image_padding = np.zeros((image.shape[0]+2*padding,image.shape[1]+2*padding,image.shape[2]))#初始化大小\n",
    "    for k in range(image.shape[2]):\n",
    "        for i in range(padding,padding+image.shape[0]):\n",
    "            for j in range(padding,padding+image.shape[1]):\n",
    "                image_padding[i,j,k] = image[i-padding,j-padding,k]\n",
    "    return image_padding\n",
    "iimage = Image.fromarray(AddPadding(dog_image_array,GausKernel_init(10)).astype('uint8'), 'RGB')\n",
    "cimage = Image.fromarray(AddPadding(cat_image_array,GausKernel_init(10)).astype('uint8'), 'RGB')\n",
    "iimage.save('dog_padding_10.png')\n",
    "cimage.save('cat_padding_10.png')"
   ]
  },
  {
   "cell_type": "markdown",
   "metadata": {},
   "source": [
    "加入**padding**之后的dog图像（$\\sigma=10$）："
   ]
  },
  {
   "cell_type": "markdown",
   "metadata": {},
   "source": [
    "![Alt text](dog_padding_10-1.png)"
   ]
  },
  {
   "cell_type": "markdown",
   "metadata": {},
   "source": [
    "![Alt text](cat_padding_10-1.png)"
   ]
  },
  {
   "cell_type": "markdown",
   "metadata": {},
   "source": [
    "编写卷积函数ConvFunc (Gaussian kernel呈中心对称)"
   ]
  },
  {
   "cell_type": "code",
   "execution_count": 65,
   "metadata": {},
   "outputs": [
    {
     "name": "stdout",
     "output_type": "stream",
     "text": [
      "加入padding之后的图像大小为: (419, 468, 3)\n",
      "sigma=5时的卷积核大小为: (30, 30)\n",
      "卷积后大小为: (361, 410, 3)\n"
     ]
    }
   ],
   "source": [
    "dog_padding = AddPadding(dog_image_array,GausKernel_init(10))\n",
    "cat_padding = AddPadding(cat_image_array,GausKernel_init(10))\n",
    "print(\"加入padding之后的图像大小为:\",str(dog_padding.shape))\n",
    "print(\"sigma=5时的卷积核大小为:\",str(GausKernel_init(5).shape))\n",
    "def ConvFunc(image_padding, image_size, kernel):\n",
    "    res = np.zeros(image_size)\n",
    "    for channel in range(image_padding.shape[2]):\n",
    "        for col in range(image_padding.shape[1] - kernel.shape[1] + 1):#防止宽度越界\n",
    "            for row in range(image_padding.shape[0] - kernel.shape[0] + 1):#防止长度越界\n",
    "                res[row, col, channel] = np.sum(image_padding[row:row+kernel.shape[0], col:col+kernel.shape[1], channel] * kernel)\n",
    "    return res\n",
    "dog_res = ConvFunc(dog_padding,dog_image_array.shape,GausKernel_init(10)) \n",
    "cat_res = ConvFunc(cat_padding,cat_image_array.shape,GausKernel_init(10))\n",
    "print(\"卷积后大小为:\",str(dog_res.shape))\n",
    "dog_low_pass = Image.fromarray(dog_res.astype('uint8'), 'RGB')#低通图像\n",
    "cat_low_pass = Image.fromarray(cat_res.astype('uint8'), 'RGB')\n",
    "dog_low_pass.save('dog_low_pass.png')\n",
    "cat_low_pass.save('cat_low_pass.png')"
   ]
  },
  {
   "cell_type": "markdown",
   "metadata": {},
   "source": [
    "***高斯滤波后的 cat and dog***"
   ]
  },
  {
   "cell_type": "markdown",
   "metadata": {},
   "source": [
    "![Alt text](cat_low_pass-1.png)"
   ]
  },
  {
   "cell_type": "markdown",
   "metadata": {},
   "source": [
    "![Alt text](dog_low_pass-1.png)"
   ]
  },
  {
   "cell_type": "markdown",
   "metadata": {},
   "source": [
    "<span style=\"color: blue;\">**Step III**</span>"
   ]
  },
  {
   "cell_type": "code",
   "execution_count": 69,
   "metadata": {},
   "outputs": [],
   "source": [
    "cat_high_pass = cat_image_array-cat_res\n",
    "high_pass = Image.fromarray(cat_high_pass.astype('uint8'), 'RGB')\n",
    "high_pass.save('high_pass_cat.png')"
   ]
  },
  {
   "cell_type": "markdown",
   "metadata": {},
   "source": [
    "***猫的高通图像***"
   ]
  },
  {
   "cell_type": "markdown",
   "metadata": {},
   "source": [
    "![Alt text](high_pass_cat-1.png)"
   ]
  },
  {
   "cell_type": "code",
   "execution_count": 70,
   "metadata": {},
   "outputs": [],
   "source": [
    "hybrid_image = cat_high_pass + dog_res\n",
    "hybrid_image_res = Image.fromarray(hybrid_image.astype('uint8'), 'RGB')\n",
    "hybrid_image_res.save('Hybrid image.png')"
   ]
  },
  {
   "cell_type": "markdown",
   "metadata": {},
   "source": [
    "***混合图像 Hybrid Image***"
   ]
  },
  {
   "cell_type": "markdown",
   "metadata": {},
   "source": [
    "![Alt text](<Hybrid image-1.png>)"
   ]
  }
 ],
 "metadata": {
  "kernelspec": {
   "display_name": "Python 3",
   "language": "python",
   "name": "python3"
  },
  "language_info": {
   "codemirror_mode": {
    "name": "ipython",
    "version": 3
   },
   "file_extension": ".py",
   "mimetype": "text/x-python",
   "name": "python",
   "nbconvert_exporter": "python",
   "pygments_lexer": "ipython3",
   "version": "3.10.1"
  },
  "orig_nbformat": 4
 },
 "nbformat": 4,
 "nbformat_minor": 2
}
